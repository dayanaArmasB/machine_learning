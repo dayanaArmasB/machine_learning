{
 "cells": [
  {
   "cell_type": "code",
   "execution_count": null,
   "id": "404d3783-9822-46a4-bbf3-507d8276fd94",
   "metadata": {},
   "outputs": [],
   "source": [
    "#Ejemplo 1\n",
    "#Imprimir valores"
   ]
  },
  {
   "cell_type": "code",
   "execution_count": 2,
   "id": "2cc81ec8-15ab-41f9-97f6-28c3e7e7c86e",
   "metadata": {},
   "outputs": [
    {
     "name": "stdout",
     "output_type": "stream",
     "text": [
      "Bienvenido UPN\n",
      "56\n",
      "40\n",
      "84\n"
     ]
    }
   ],
   "source": [
    "print(\"Bienvenido UPN\")\n",
    "print(56)\n",
    "print(5*8)\n",
    "a=7\n",
    "b=12\n",
    "print(a*b)"
   ]
  },
  {
   "cell_type": "code",
   "execution_count": 3,
   "id": "67773cb4-b2d6-460e-ac36-f78e617348c3",
   "metadata": {},
   "outputs": [
    {
     "name": "stdout",
     "output_type": "stream",
     "text": [
      "5\n"
     ]
    }
   ],
   "source": [
    "print(b-a)"
   ]
  },
  {
   "cell_type": "code",
   "execution_count": null,
   "id": "ad7e2b12-961b-48f7-90ec-1b6cbe1f2aa8",
   "metadata": {},
   "outputs": [],
   "source": [
    "#Ejemplo 2\n",
    "#Concatenación"
   ]
  },
  {
   "cell_type": "code",
   "execution_count": 6,
   "id": "b3463715-2a02-4d4a-a29f-41ee7418a5aa",
   "metadata": {},
   "outputs": [
    {
     "name": "stdout",
     "output_type": "stream",
     "text": [
      "17\n",
      "Resultado: 26.8\n",
      "Resultado: 26.8\n"
     ]
    }
   ],
   "source": [
    "x=17\n",
    "print(x)\n",
    "y=x+9.8\n",
    "print(\"Resultado: \"+str(y))\n",
    "print('Resultado: '+str(y))"
   ]
  },
  {
   "cell_type": "code",
   "execution_count": null,
   "id": "7b61a1ec-cfe8-45dd-a93c-b0bee5f4da37",
   "metadata": {},
   "outputs": [],
   "source": [
    "#Ejemplo 3\n",
    "#Concatenación de String con número"
   ]
  },
  {
   "cell_type": "code",
   "execution_count": 8,
   "id": "7c36498f-c909-4fa2-b822-95607167f5ab",
   "metadata": {},
   "outputs": [
    {
     "name": "stdout",
     "output_type": "stream",
     "text": [
      "17\n",
      "26.8\n",
      "Resultado: 26.8\n",
      "Resultado: 30.1\n",
      "Resultado:  26.8\n",
      "Resultado:  30.1\n"
     ]
    }
   ],
   "source": [
    "x=17\n",
    "print(x)\n",
    "y=x+9.8\n",
    "print(y)\n",
    "\n",
    "#1° Forma: Usando +\n",
    "print(\"Resultado: \"+str(y))\n",
    "print(\"Resultado: \"+str(y+3.3))\n",
    "\n",
    "#2° Forma: Usando ,\n",
    "print(\"Resultado: \",y)\n",
    "print(\"Resultado: \",y+3.3)"
   ]
  },
  {
   "cell_type": "code",
   "execution_count": 9,
   "id": "0454ba8c-3aa2-47fd-99c8-378045f0dda6",
   "metadata": {},
   "outputs": [
    {
     "name": "stdout",
     "output_type": "stream",
     "text": [
      "abc\n",
      "abcabcabc\n"
     ]
    }
   ],
   "source": [
    "z=\"abc\"\n",
    "print(z)\n",
    "print(z*3)"
   ]
  },
  {
   "cell_type": "code",
   "execution_count": null,
   "id": "84dbae83-c692-44a1-8e9e-5e910742200e",
   "metadata": {},
   "outputs": [],
   "source": [
    "#Ejemplo 4"
   ]
  },
  {
   "cell_type": "code",
   "execution_count": 11,
   "id": "a1a3c544-d962-48ce-b1d3-bc1d7c9483f8",
   "metadata": {},
   "outputs": [
    {
     "name": "stdin",
     "output_type": "stream",
     "text": [
      "Introduce tu nombre:  Julio Americo Ramirez\n"
     ]
    },
    {
     "name": "stdout",
     "output_type": "stream",
     "text": [
      "¡Hola Julio Americo Ramirez!\n"
     ]
    }
   ],
   "source": [
    "nombre=input(\"Introduce tu nombre: \")\n",
    "print(\"¡Hola \"+nombre+\"!\")"
   ]
  },
  {
   "cell_type": "code",
   "execution_count": null,
   "id": "2e2486af-3ebe-49f3-b041-95651a739ccd",
   "metadata": {},
   "outputs": [],
   "source": [
    "#Ejemplo 5"
   ]
  },
  {
   "cell_type": "code",
   "execution_count": 18,
   "id": "6b8f0628-e3f5-4be7-900b-e820c8af0b45",
   "metadata": {},
   "outputs": [
    {
     "name": "stdout",
     "output_type": "stream",
     "text": [
      "0.25\n",
      "Resultado 1: 0.25\n",
      "0.25\n",
      "Resultado 2: 0.25\n",
      "Resultado 3: 0.25\n"
     ]
    }
   ],
   "source": [
    "#1° Forma\n",
    "print(((3+2)/(2*5))**2)\n",
    "print(\"Resultado 1:\",((3+2)/(2*5))**2)\n",
    "\n",
    "#2° Forma\n",
    "numerador=3+2\n",
    "denominador=2*5\n",
    "print((numerador/denominador)**2)\n",
    "print(\"Resultado 2:\",(numerador/denominador)**2)\n",
    "\n",
    "#3° Forma\n",
    "print(\"Resultado 3: \"+str((numerador/denominador)**2))"
   ]
  },
  {
   "cell_type": "code",
   "execution_count": null,
   "id": "d5e28731-91fb-4242-a0e6-b92457dcbd13",
   "metadata": {},
   "outputs": [],
   "source": [
    "#Ejemplo 6"
   ]
  },
  {
   "cell_type": "code",
   "execution_count": 19,
   "id": "572930b7-1bcf-4288-9da1-94e5e6a27fe6",
   "metadata": {},
   "outputs": [
    {
     "name": "stdin",
     "output_type": "stream",
     "text": [
      "Ingrese sus horas trabajadas:  2.4\n",
      "Ingrese su costo por hora:  6\n"
     ]
    },
    {
     "name": "stdout",
     "output_type": "stream",
     "text": [
      "Tu pago es:  14.399999999999999\n",
      "Tu pago es: 14.399999999999999\n",
      "Tu pago redondeado es:  14.4\n"
     ]
    }
   ],
   "source": [
    "horas=float(input(\"Ingrese sus horas trabajadas: \"))\n",
    "costo=float(input(\"Ingrese su costo por hora: \"))\n",
    "pago=horas*costo\n",
    "print(\"Tu pago es: \",pago)\n",
    "print(\"Tu pago es: \"+str(pago))\n",
    "print(\"Tu pago redondeado es: \",round(pago,2))"
   ]
  },
  {
   "cell_type": "code",
   "execution_count": null,
   "id": "50b87586-e28c-46dd-8721-c8068211942f",
   "metadata": {},
   "outputs": [],
   "source": [
    "#Ejemplo 7"
   ]
  },
  {
   "cell_type": "code",
   "execution_count": 22,
   "id": "902af27f-d58b-4791-89a3-cba63c448083",
   "metadata": {},
   "outputs": [
    {
     "name": "stdin",
     "output_type": "stream",
     "text": [
      "Introduce un número entero final 6\n"
     ]
    },
    {
     "name": "stdout",
     "output_type": "stream",
     "text": [
      "La suma de los números enteros desde 1 hasta 6 es 21.0\n",
      "La suma de los números enteros desde 1 hasta 6 es 21.0\n"
     ]
    }
   ],
   "source": [
    "n=int(input(\"Introduce un número entero final\"))\n",
    "suma=n*(n+1)/2\n",
    "#1° Forma\n",
    "print(\"La suma de los números enteros desde 1 hasta \"+str(n)+\" es \"+str(suma))\n",
    "#2° Forma\n",
    "print(\"La suma de los números enteros desde 1 hasta\",n,\"es\",suma)"
   ]
  },
  {
   "cell_type": "code",
   "execution_count": null,
   "id": "9af3c828-a9c2-408b-a97f-d8edc7785d03",
   "metadata": {},
   "outputs": [],
   "source": [
    "#Ejemplo 8"
   ]
  },
  {
   "cell_type": "code",
   "execution_count": 25,
   "id": "ddeeecd0-5a83-4c41-bd39-f51ad28b23cc",
   "metadata": {},
   "outputs": [
    {
     "name": "stdin",
     "output_type": "stream",
     "text": [
      "¿Cuál es tu peso en kg? 89\n",
      "¿Cuál es tu estatura en metros? 1.68\n"
     ]
    },
    {
     "name": "stdout",
     "output_type": "stream",
     "text": [
      "Tu índice de masa corporal es: 31.53\n",
      "Tu índice de masa corporal es: 31.53\n"
     ]
    }
   ],
   "source": [
    "peso=float(input(\"¿Cuál es tu peso en kg?\"))\n",
    "estatura=float(input(\"¿Cuál es tu estatura en metros?\"))\n",
    "imc=round(peso/(estatura)**2,2)\n",
    "#1°Forma\n",
    "print(\"Tu índice de masa corporal es: \"+str(imc))\n",
    "#2°Forma\n",
    "print(\"Tu índice de masa corporal es:\",imc)"
   ]
  },
  {
   "cell_type": "code",
   "execution_count": null,
   "id": "d94912bc-1847-400e-a68b-59882a9c77d1",
   "metadata": {},
   "outputs": [],
   "source": [
    "#Ejemplo 9"
   ]
  },
  {
   "cell_type": "code",
   "execution_count": 26,
   "id": "bc26dcde-56ad-438e-bf11-43effda6d316",
   "metadata": {},
   "outputs": [
    {
     "name": "stdin",
     "output_type": "stream",
     "text": [
      "Ingrese el dividiendo entero:  7\n",
      "Ingrese el divisor entero:  2\n"
     ]
    },
    {
     "name": "stdout",
     "output_type": "stream",
     "text": [
      "7 entre 2 da un cociente de 3 y un resto de 1\n",
      "7 entre 2 da un cociente de 3 y un resto de 1\n"
     ]
    }
   ],
   "source": [
    "dividendo=int(input(\"Ingrese el dividiendo entero: \"))\n",
    "divisor=int(input(\"Ingrese el divisor entero: \"))\n",
    "cociente=dividendo//divisor\n",
    "residuo=dividendo%divisor\n",
    "#1°Forma\n",
    "print(dividendo,\"entre\",divisor,\"da un cociente de\",cociente,\"y un resto de\",residuo)\n",
    "#2°Forma\n",
    "print(str(dividendo)+\" entre \"+str(divisor)+\" da un cociente de \"+str(cociente)+\" y un resto de \"+str(residuo))"
   ]
  },
  {
   "cell_type": "code",
   "execution_count": null,
   "id": "00e41e37-36cd-4c6a-b6c6-1fbd147e8dfc",
   "metadata": {},
   "outputs": [],
   "source": [
    "#Ejemplo 10"
   ]
  },
  {
   "cell_type": "code",
   "execution_count": 27,
   "id": "42c354eb-b5a3-4741-8a1d-857a99c681af",
   "metadata": {},
   "outputs": [
    {
     "name": "stdin",
     "output_type": "stream",
     "text": [
      "Ingrese cantidad a invertir:  780\n",
      "Ingrese interés anual:  12\n",
      "Ingrese años de inversión 4\n"
     ]
    },
    {
     "name": "stdout",
     "output_type": "stream",
     "text": [
      "Capital obtenido:  1227.35\n"
     ]
    }
   ],
   "source": [
    "cantidad=float(input(\"Ingrese cantidad a invertir: \"))\n",
    "interes=float(input(\"Ingrese interés anual: \"))\n",
    "años=int(input(\"Ingrese años de inversión\"))\n",
    "capitalObtenido=round(cantidad*(interes/100+1)**años,2)\n",
    "\n",
    "print(\"Capital obtenido: \",str(capitalObtenido))"
   ]
  },
  {
   "cell_type": "code",
   "execution_count": null,
   "id": "7160750d-da97-4fa7-a1d0-067345cd7d24",
   "metadata": {},
   "outputs": [],
   "source": []
  }
 ],
 "metadata": {
  "kernelspec": {
   "display_name": "Python 3 (ipykernel)",
   "language": "python",
   "name": "python3"
  },
  "language_info": {
   "codemirror_mode": {
    "name": "ipython",
    "version": 3
   },
   "file_extension": ".py",
   "mimetype": "text/x-python",
   "name": "python",
   "nbconvert_exporter": "python",
   "pygments_lexer": "ipython3",
   "version": "3.11.7"
  }
 },
 "nbformat": 4,
 "nbformat_minor": 5
}
