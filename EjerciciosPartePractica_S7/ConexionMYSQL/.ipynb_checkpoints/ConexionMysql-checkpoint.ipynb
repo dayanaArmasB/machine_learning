{
 "cells": [
  {
   "cell_type": "code",
   "execution_count": 101,
   "id": "cd79a5f9",
   "metadata": {},
   "outputs": [],
   "source": [
    "import pyodbc\n",
    "#Si no funciona colocar en el prompt de anaconda -> pip install pyodbc\n",
    "#Importar las librerias\n",
    "import pandas as pd\n",
    "import mysql.connector\n",
    "from mysql.connector import Error\n",
    "#import pymysql"
   ]
  },
  {
   "cell_type": "code",
   "execution_count": 102,
   "id": "c867b996",
   "metadata": {},
   "outputs": [
    {
     "name": "stdout",
     "output_type": "stream",
     "text": [
      "Conexión exitosa\n",
      "Info del servidor:  8.0.30\n"
     ]
    }
   ],
   "source": [
    "#Establecer conexion con MYSQL\n",
    "try:\n",
    "    conexion=mysql.connector.connect(user='root',password='system', host='localhost',\n",
    "                                 database='bd_escuela',port='3306')\n",
    "    \n",
    "    if conexion.is_connected():\n",
    "        print(\"Conexión exitosa\")\n",
    "        infoServer=conexion.get_server_info()\n",
    "        print(\"Info del servidor: \",infoServer)\n",
    "        \n",
    "except Error as ex:\n",
    "    print(\"Error durante la conexión\",ex)\n",
    "#\n",
    "#    if conexion.is_connected():\n",
    "#        conexion.close() #Se cerró la conexión a la BD\n",
    "#        print(\"La conexión ha finalizado\")"
   ]
  },
  {
   "cell_type": "code",
   "execution_count": 103,
   "id": "f6116a43",
   "metadata": {},
   "outputs": [
    {
     "name": "stdout",
     "output_type": "stream",
     "text": [
      "             apellidos    nombres  edad\n",
      "0                 sasa      qqwwq    20\n",
      "1       Romero9 Espejo     Steven    20\n",
      "2        Romero Espejo      Maria    20\n",
      "3       Marcos Sanchez    Jusephe    20\n",
      "4      Romero Martinez     Jordan    20\n",
      "5        Espejo Espejo      Juana    20\n",
      "6   Martinez Villareal     Robert    20\n",
      "7       Lancaster Ruiz      Maria    20\n",
      "8        Ruiz Gregorio  Magdalena    20\n",
      "9      Sanchez Sanchez       Juan    20\n",
      "10     Rivas Maldonado       Yola    20\n",
      "11      Rivas Castillo     Blanca    20\n",
      "12      Romero2 Espejo     Rosaly    20\n",
      "13      Romero3 Espejo    Fiorela    20\n",
      "14      Romero4 Espejo    Josafat    20\n",
      "15      Romero5 Espejo       Jhon    20\n",
      "16      Romero6 Espejo       Flor    20\n",
      "17      Romero7 Espejo        Liz    20\n",
      "18      Romero8 Espejo   Gabriela    20\n",
      "19         Modificado3     Steven    20\n",
      "20         Modificado2      Maria    20\n",
      "21                 aas         as     5\n",
      "22       Romero Espejo      Maria    20\n",
      "23      Marcos Sanchez    Jusephe    20\n",
      "24     Romero Martinez     Jordan    20\n",
      "25       Espejo Espejo      Juana    20\n",
      "26  Martinez Villareal     Robert    20\n",
      "27      Lancaster Ruiz      Maria    20\n",
      "28       Ruiz Gregorio  Magdalena    20\n",
      "29     Sanchez Sanchez       Juan    20\n",
      "30     Rivas Maldonado       Yola    20\n",
      "31      Rivas Castillo     Blanca    20\n",
      "32      Romero2 Espejo     Rosaly    20\n",
      "33      Romero3 Espejo    Fiorela    20\n",
      "34      Romero4 Espejo    Josafat    20\n",
      "35      Romero5 Espejo       Jhon    20\n",
      "36      Romero6 Espejo       Flor    20\n",
      "37      Romero7 Espejo        Liz    20\n",
      "38      Romero8 Espejo   Gabriela    20\n",
      "39      Romero9 Espejo     Steven    20\n"
     ]
    },
    {
     "name": "stderr",
     "output_type": "stream",
     "text": [
      "C:\\Users\\Tismart\\AppData\\Local\\Temp\\ipykernel_17996\\1783614779.py:1: UserWarning: pandas only supports SQLAlchemy connectable (engine/connection) or database string URI or sqlite3 DBAPI2 connection. Other DBAPI2 objects are not tested. Please consider using SQLAlchemy.\n",
      "  df=pd.read_sql_query(\"SELECT apellidos, nombres, edad FROM ALUMNO \",conexion)\n"
     ]
    }
   ],
   "source": [
    "df=pd.read_sql_query(\"SELECT apellidos, nombres, edad FROM ALUMNO \",conexion)\n",
    "\n",
    "print(df)"
   ]
  },
  {
   "cell_type": "code",
   "execution_count": 104,
   "id": "8dd54069",
   "metadata": {},
   "outputs": [
    {
     "name": "stdout",
     "output_type": "stream",
     "text": [
      "             apellidos    nombres  edad\n",
      "0                 sasa      qqwwq    20\n",
      "1       Romero9 Espejo     Steven    20\n",
      "2        Romero Espejo      Maria    20\n",
      "3       Marcos Sanchez    Jusephe    20\n",
      "4      Romero Martinez     Jordan    20\n",
      "5        Espejo Espejo      Juana    20\n",
      "6   Martinez Villareal     Robert    20\n",
      "7       Lancaster Ruiz      Maria    20\n",
      "8        Ruiz Gregorio  Magdalena    20\n",
      "9      Sanchez Sanchez       Juan    20\n",
      "10     Rivas Maldonado       Yola    20\n",
      "11      Rivas Castillo     Blanca    20\n",
      "12      Romero2 Espejo     Rosaly    20\n",
      "13      Romero3 Espejo    Fiorela    20\n",
      "14      Romero4 Espejo    Josafat    20\n",
      "15      Romero5 Espejo       Jhon    20\n",
      "16      Romero6 Espejo       Flor    20\n",
      "17      Romero7 Espejo        Liz    20\n",
      "18      Romero8 Espejo   Gabriela    20\n",
      "19         Modificado3     Steven    20\n",
      "20         Modificado2      Maria    20\n",
      "21       Romero Espejo      Maria    20\n",
      "22      Marcos Sanchez    Jusephe    20\n",
      "23     Romero Martinez     Jordan    20\n",
      "24       Espejo Espejo      Juana    20\n",
      "25  Martinez Villareal     Robert    20\n",
      "26      Lancaster Ruiz      Maria    20\n",
      "27       Ruiz Gregorio  Magdalena    20\n",
      "28     Sanchez Sanchez       Juan    20\n",
      "29     Rivas Maldonado       Yola    20\n",
      "30      Rivas Castillo     Blanca    20\n",
      "31      Romero2 Espejo     Rosaly    20\n",
      "32      Romero3 Espejo    Fiorela    20\n",
      "33      Romero4 Espejo    Josafat    20\n",
      "34      Romero5 Espejo       Jhon    20\n",
      "35      Romero6 Espejo       Flor    20\n",
      "36      Romero7 Espejo        Liz    20\n",
      "37      Romero8 Espejo   Gabriela    20\n",
      "38      Romero9 Espejo     Steven    20\n"
     ]
    },
    {
     "name": "stderr",
     "output_type": "stream",
     "text": [
      "C:\\Users\\Tismart\\AppData\\Local\\Temp\\ipykernel_17996\\3481702644.py:1: UserWarning: pandas only supports SQLAlchemy connectable (engine/connection) or database string URI or sqlite3 DBAPI2 connection. Other DBAPI2 objects are not tested. Please consider using SQLAlchemy.\n",
      "  df=pd.read_sql_query(\"SELECT apellidos, nombres, edad FROM ALUMNO where edad between 18 and 24\",conexion)\n"
     ]
    }
   ],
   "source": [
    "df=pd.read_sql_query(\"SELECT apellidos, nombres, edad FROM ALUMNO where edad between 18 and 24\",conexion)\n",
    "\n",
    "print(df)\n"
   ]
  },
  {
   "cell_type": "code",
   "execution_count": 105,
   "id": "2d2b28d9",
   "metadata": {},
   "outputs": [
    {
     "name": "stdout",
     "output_type": "stream",
     "text": [
      "             apellidos    nombres  edad\n",
      "0                 sasa      qqwwq    20\n",
      "1       Romero9 Espejo     Steven    20\n",
      "2        Romero Espejo      Maria    20\n",
      "3       Marcos Sanchez    Jusephe    20\n",
      "4      Romero Martinez     Jordan    20\n",
      "5        Espejo Espejo      Juana    20\n",
      "6   Martinez Villareal     Robert    20\n",
      "7       Lancaster Ruiz      Maria    20\n",
      "8        Ruiz Gregorio  Magdalena    20\n",
      "9      Sanchez Sanchez       Juan    20\n",
      "10     Rivas Maldonado       Yola    20\n",
      "11      Rivas Castillo     Blanca    20\n",
      "12      Romero2 Espejo     Rosaly    20\n",
      "13      Romero3 Espejo    Fiorela    20\n",
      "14      Romero4 Espejo    Josafat    20\n",
      "15      Romero5 Espejo       Jhon    20\n",
      "16      Romero6 Espejo       Flor    20\n",
      "17      Romero7 Espejo        Liz    20\n",
      "18      Romero8 Espejo   Gabriela    20\n",
      "19         Modificado3     Steven    20\n",
      "20         Modificado2      Maria    20\n",
      "21                 aas         as     5\n",
      "22       Romero Espejo      Maria    20\n",
      "23      Marcos Sanchez    Jusephe    20\n",
      "24     Romero Martinez     Jordan    20\n",
      "25       Espejo Espejo      Juana    20\n",
      "26  Martinez Villareal     Robert    20\n",
      "27      Lancaster Ruiz      Maria    20\n",
      "28       Ruiz Gregorio  Magdalena    20\n",
      "29     Sanchez Sanchez       Juan    20\n",
      "30     Rivas Maldonado       Yola    20\n",
      "31      Rivas Castillo     Blanca    20\n",
      "32      Romero2 Espejo     Rosaly    20\n",
      "33      Romero3 Espejo    Fiorela    20\n",
      "34      Romero4 Espejo    Josafat    20\n",
      "35      Romero5 Espejo       Jhon    20\n",
      "36      Romero6 Espejo       Flor    20\n",
      "37      Romero7 Espejo        Liz    20\n",
      "38      Romero8 Espejo   Gabriela    20\n",
      "39      Romero9 Espejo     Steven    20\n"
     ]
    },
    {
     "name": "stderr",
     "output_type": "stream",
     "text": [
      "C:\\Users\\Tismart\\AppData\\Local\\Temp\\ipykernel_17996\\419325942.py:1: UserWarning: pandas only supports SQLAlchemy connectable (engine/connection) or database string URI or sqlite3 DBAPI2 connection. Other DBAPI2 objects are not tested. Please consider using SQLAlchemy.\n",
      "  df=pd.read_sql_query(\"SELECT apellidos, nombres, edad FROM ALUMNO \",conexion)\n"
     ]
    }
   ],
   "source": [
    "df=pd.read_sql_query(\"SELECT apellidos, nombres, edad FROM ALUMNO \",conexion)\n",
    "#conexion.close()\n",
    "print(df)"
   ]
  },
  {
   "cell_type": "code",
   "execution_count": 88,
   "id": "cc265587",
   "metadata": {},
   "outputs": [
    {
     "name": "stdout",
     "output_type": "stream",
     "text": [
      "1 sasa qqwwq 20 1.65 2023-04-26\n",
      "2 Romero9 Espejo Steven 20 1.65 2023-04-26\n",
      "3 Romero Espejo Maria 20 1.65 2023-04-26\n",
      "4 Marcos Sanchez Jusephe 20 1.65 2023-04-26\n",
      "5 Romero Martinez Jordan 20 1.65 2023-04-26\n",
      "6 Espejo Espejo Juana 20 1.65 2023-04-26\n",
      "7 Martinez Villareal Robert 20 1.65 2023-04-26\n",
      "8 Lancaster Ruiz Maria 20 1.65 2023-04-26\n",
      "9 Ruiz Gregorio Magdalena 20 1.65 2023-04-26\n",
      "10 Sanchez Sanchez Juan 20 1.65 2023-04-26\n",
      "11 Rivas Maldonado Yola 20 1.65 2023-04-26\n",
      "12 Rivas Castillo Blanca 20 1.65 2023-04-26\n",
      "13 Romero2 Espejo Rosaly 20 1.65 2023-04-26\n",
      "14 Romero3 Espejo Fiorela 20 1.65 2023-04-26\n",
      "15 Romero4 Espejo Josafat 20 1.65 2023-04-26\n",
      "16 Romero5 Espejo Jhon 20 1.65 2023-04-26\n",
      "17 Romero6 Espejo Flor 20 1.65 2023-04-26\n",
      "18 Romero7 Espejo Liz 20 1.65 2023-04-26\n",
      "19 Romero8 Espejo Gabriela 20 1.65 2023-04-26\n",
      "20 Modificado3 Steven 20 1.96 2023-04-26\n",
      "21 Modificado2 Maria 20 1.95 2023-04-26\n",
      "24 aas as 5 1.0 2023-05-05\n",
      "25 Romero Espejo Maria 20 1.65 2023-04-26\n",
      "26 Marcos Sanchez Jusephe 20 1.65 2023-04-26\n",
      "27 Romero Martinez Jordan 20 1.65 2023-04-26\n",
      "28 Espejo Espejo Juana 20 1.65 2023-04-26\n",
      "29 Martinez Villareal Robert 20 1.65 2023-04-26\n",
      "30 Lancaster Ruiz Maria 20 1.65 2023-04-26\n",
      "31 Ruiz Gregorio Magdalena 20 1.65 2023-04-26\n",
      "32 Sanchez Sanchez Juan 20 1.65 2023-04-26\n",
      "33 Rivas Maldonado Yola 20 1.65 2023-04-26\n",
      "34 Rivas Castillo Blanca 20 1.65 2023-04-26\n",
      "35 Romero2 Espejo Rosaly 20 1.65 2023-04-26\n",
      "36 Romero3 Espejo Fiorela 20 1.65 2023-04-26\n",
      "37 Romero4 Espejo Josafat 20 1.65 2023-04-26\n",
      "38 Romero5 Espejo Jhon 20 1.65 2023-04-26\n",
      "39 Romero6 Espejo Flor 20 1.65 2023-04-26\n",
      "40 Romero7 Espejo Liz 20 1.65 2023-04-26\n",
      "41 Romero8 Espejo Gabriela 20 1.65 2023-04-26\n",
      "42 Romero9 Espejo Steven 20 1.65 2023-04-26\n",
      "Total de registros: 40\n"
     ]
    }
   ],
   "source": [
    "#Consultar datos\n",
    "try:\n",
    "    cursor=conexion.cursor()\n",
    "    cursor.execute(\"select * from alumno\")\n",
    "    resultados=cursor.fetchall()\n",
    "    for fila in resultados:\n",
    "        print(fila[0],fila[1],fila[2],fila[3],fila[4],fila[5])\n",
    "    print(\"Total de registros:\" ,cursor.rowcount)\n",
    "except Error as ex:\n",
    "    print(\"Error durante la ejecución\",ex)"
   ]
  },
  {
   "cell_type": "code",
   "execution_count": 89,
   "id": "99998fbd",
   "metadata": {},
   "outputs": [
    {
     "name": "stdout",
     "output_type": "stream",
     "text": [
      "2 Ingles 2023-04-26 1 sasa qqwwq\n",
      "6 Ingles 2023-04-26 1 sasa qqwwq\n",
      "7 Ingles 2023-04-26 2 Romero9 Espejo Steven\n",
      "8 Ingles 2023-04-26 3 Romero Espejo Maria\n",
      "9 Ingles 2023-04-26 4 Marcos Sanchez Jusephe\n",
      "10 Ingles 2023-04-26 5 Romero Martinez Jordan\n",
      "11 Ingles 2023-04-26 6 Espejo Espejo Juana\n",
      "12 Ingles 2023-04-26 7 Martinez Villareal Robert\n",
      "13 Programacion 2023-04-26 8 Lancaster Ruiz Maria\n",
      "14 Programacion 2023-04-26 9 Ruiz Gregorio Magdalena\n",
      "15 Programacion 2023-04-26 10 Sanchez Sanchez Juan\n",
      "16 Programacion 2023-04-26 11 Rivas Maldonado Yola\n",
      "17 Programacion 2023-04-26 12 Rivas Castillo Blanca\n",
      "18 Programacion 2023-04-26 13 Romero2 Espejo Rosaly\n",
      "19 Programacion 2023-04-26 14 Romero3 Espejo Fiorela\n",
      "20 Programacion 2023-04-26 15 Romero4 Espejo Josafat\n",
      "21 Programacion 2023-04-26 16 Romero5 Espejo Jhon\n",
      "22 Programacion 2023-04-26 17 Romero6 Espejo Flor\n",
      "23 Programacion 2023-04-26 18 Romero7 Espejo Liz\n",
      "Total de registros: 19\n"
     ]
    }
   ],
   "source": [
    "#Consultar datos de varias tablas\n",
    "try:\n",
    "    cursor=conexion.cursor()\n",
    "    cursor.execute(\"select cur.idCurso,cur.descripcion,cur.f_creacion,cur.idAlumno, concat(alum.apellidos,' ',alum.nombres) as 'Alumno' from curso cur,alumno alum where cur.idAlumno=alum.idAlumno\")\n",
    "    resultados=cursor.fetchall()\n",
    "    for fila in resultados:\n",
    "        print(fila[0],fila[1],fila[2],fila[3],fila[4])\n",
    "    print(\"Total de registros:\" ,cursor.rowcount)\n",
    "except Error as ex:\n",
    "    print(\"Error durante la ejecución\",ex)"
   ]
  },
  {
   "cell_type": "code",
   "execution_count": 19,
   "id": "d55c12bd",
   "metadata": {},
   "outputs": [
    {
     "name": "stdout",
     "output_type": "stream",
     "text": [
      "Registro insertado con éxito\n"
     ]
    }
   ],
   "source": [
    "#Insertar datos\n",
    "try:\n",
    "    cursor.execute(\"insert into alumno(apellidos,nombres,edad,talla,f_creacion) values('Romero3 Espejo','Maria',20,1.65,now())\")\n",
    "    cursor.execute(\"insert into alumno(apellidos,nombres,edad,talla,f_creacion) values('Romero4 Espejo','Maria',20,1.65,now())\")\n",
    "    cursor.execute(\"insert into alumno(apellidos,nombres,edad,talla,f_creacion) values('Romero5 Espejo','Maria',20,1.65,now())\")\n",
    "    conexion.commit()\n",
    "    print(\"Registro insertado con éxito\")\n",
    "except Error as ex:\n",
    "    print(\"Error durante la ejecución\",ex)\n"
   ]
  },
  {
   "cell_type": "code",
   "execution_count": 22,
   "id": "a9578dba",
   "metadata": {},
   "outputs": [
    {
     "name": "stdout",
     "output_type": "stream",
     "text": [
      "Registro de datos:\n",
      "Ingrese apellidos: aas\n",
      "Ingrese nombres: as\n",
      "Ingrese edad: 5\n",
      "Ingrese talla: 1\n",
      "Ingrese f_creacion: 2023-05-05\n",
      "Registro insertado con éxito\n"
     ]
    }
   ],
   "source": [
    "#Insertar datos con parámetros\n",
    "try:\n",
    "    print(\"Registro de datos:\")\n",
    "    apellidos=input(\"Ingrese apellidos: \")\n",
    "    nombres=input(\"Ingrese nombres: \")\n",
    "    edad=input(\"Ingrese edad: \")\n",
    "    talla=input(\"Ingrese talla: \")\n",
    "    f_creacion=input(\"Ingrese f_creacion: \")\n",
    "\n",
    "    sentencia=\"insert into alumno(apellidos,nombres,edad,talla,f_creacion) values('{0}','{1}','{2}','{3}','{4}')\".format(apellidos,nombres,edad,talla,f_creacion)\n",
    "    #Fecha en formato: yyyy-mm-dd\n",
    "    cursor.execute(sentencia)\n",
    "    conexion.commit()\n",
    "    print(\"Registro insertado con éxito\")\n",
    "except Error as ex:\n",
    "    print(\"Error durante la ejecución\",ex)\n"
   ]
  },
  {
   "cell_type": "code",
   "execution_count": 24,
   "id": "57c9f756",
   "metadata": {},
   "outputs": [
    {
     "name": "stdout",
     "output_type": "stream",
     "text": [
      "Modificación de datos:\n",
      "Modificado con éxito\n"
     ]
    }
   ],
   "source": [
    "#Modificar datos\n",
    "try:\n",
    "    print(\"Modificación de datos:\")\n",
    "    cursor.execute(\"update alumno set apellidos='Modificado1',talla=1.97 where idAlumno=22\")\n",
    "    cursor.execute(\"update alumno set apellidos='Modificado2',talla=1.95 where idAlumno=21\")\n",
    "    cursor.execute(\"update alumno set apellidos='Modificado3',talla=1.96 where idAlumno=20\")\n",
    "    conexion.commit()\n",
    "    print(\"Modificado con éxito\")\n",
    "except Error as ex:\n",
    "    print(\"Error durante la ejecución\",ex)\n"
   ]
  },
  {
   "cell_type": "code",
   "execution_count": 25,
   "id": "3c5a7ab7",
   "metadata": {},
   "outputs": [
    {
     "name": "stdout",
     "output_type": "stream",
     "text": [
      "Modificación de datos:\n",
      "Ingrese apellidos: sasa\n",
      "Ingrese nombres: qqwwq\n",
      "Ingrese f_creacion: 2023-04-26\n",
      "Ingrese idAlumno: 1\n",
      "Modificado con éxito\n"
     ]
    }
   ],
   "source": [
    "#Modificar datos con parámetros\n",
    "try:\n",
    "    print(\"Modificación de datos:\")\n",
    "\n",
    "    apellidos=input(\"Ingrese apellidos: \")\n",
    "    nombres=input(\"Ingrese nombres: \")\n",
    "    f_creacion=input(\"Ingrese f_creacion: \")\n",
    "    idAlumno=input(\"Ingrese idAlumno: \")\n",
    "\n",
    "    sentencia=\"update alumno set apellidos='{0}',nombres='{1}',f_creacion='{2}' where idAlumno='{3}'\".format(apellidos,nombres,f_creacion,idAlumno)\n",
    "    #Fecha en formato: yyyy-mm-dd\n",
    "    cursor.execute(sentencia)\n",
    "    conexion.commit()\n",
    "    print(\"Modificado con éxito\")\n",
    "    \n",
    "except Error as ex:\n",
    "    print(\"Error durante la ejecución\",ex)\n"
   ]
  },
  {
   "cell_type": "code",
   "execution_count": 26,
   "id": "44479d15",
   "metadata": {},
   "outputs": [
    {
     "name": "stdout",
     "output_type": "stream",
     "text": [
      "Eliminación de datos:\n",
      "Eliminado con éxito\n"
     ]
    }
   ],
   "source": [
    "#Eliminación de datos\n",
    "try:\n",
    "    print(\"Eliminación de datos:\")\n",
    "    cursor.execute(\"delete from alumno where idAlumno=23\")\n",
    "    cursor.execute(\"delete from alumno where idAlumno=22\")\n",
    "    conexion.commit()\n",
    "    print(\"Eliminado con éxito\")\n",
    "except Error as ex:\n",
    "    print(\"Error durante la ejecución\",ex)\n"
   ]
  },
  {
   "cell_type": "code",
   "execution_count": 27,
   "id": "fa037c5d",
   "metadata": {},
   "outputs": [
    {
     "name": "stdout",
     "output_type": "stream",
     "text": [
      "Eliminación de datos:\n",
      "Ingrese nombres: Juan\n",
      "Ingrese idAlumno: 1\n",
      "Eliminado con éxito\n"
     ]
    }
   ],
   "source": [
    "#Eliminación de datos con parámetros\n",
    "try:\n",
    "    print(\"Eliminación de datos:\")\n",
    "    nombres=input(\"Ingrese nombres: \")\n",
    "    idAlumno=input(\"Ingrese idAlumno: \")\n",
    "    \n",
    "    sentencia=\"delete from alumno where nombres='{0}' and idAlumno='{1}'\".format(nombres,idAlumno)\n",
    "    cursor.execute(sentencia)\n",
    "    conexion.commit()\n",
    "    print(\"Eliminado con éxito\")\n",
    "    \n",
    "except Error as ex:\n",
    "    print(\"Error durante la ejecución\",ex)\n"
   ]
  },
  {
   "cell_type": "code",
   "execution_count": 106,
   "id": "66378a60",
   "metadata": {},
   "outputs": [
    {
     "name": "stdout",
     "output_type": "stream",
     "text": [
      "             apellidos    nombres  edad\n",
      "0                 sasa      qqwwq    20\n",
      "1       Romero9 Espejo     Steven    20\n",
      "2        Romero Espejo      Maria    20\n",
      "3       Marcos Sanchez    Jusephe    20\n",
      "4      Romero Martinez     Jordan    20\n",
      "5        Espejo Espejo      Juana    20\n",
      "6   Martinez Villareal     Robert    20\n",
      "7       Lancaster Ruiz      Maria    20\n",
      "8        Ruiz Gregorio  Magdalena    20\n",
      "9      Sanchez Sanchez       Juan    20\n",
      "10     Rivas Maldonado       Yola    20\n",
      "11      Rivas Castillo     Blanca    20\n",
      "12      Romero2 Espejo     Rosaly    20\n",
      "13      Romero3 Espejo    Fiorela    20\n",
      "14      Romero4 Espejo    Josafat    20\n",
      "15      Romero5 Espejo       Jhon    20\n",
      "16      Romero6 Espejo       Flor    20\n",
      "17      Romero7 Espejo        Liz    20\n",
      "18      Romero8 Espejo   Gabriela    20\n",
      "19         Modificado3     Steven    20\n",
      "20         Modificado2      Maria    20\n",
      "21                 aas         as     5\n",
      "22       Romero Espejo      Maria    20\n",
      "23      Marcos Sanchez    Jusephe    20\n",
      "24     Romero Martinez     Jordan    20\n",
      "25       Espejo Espejo      Juana    20\n",
      "26  Martinez Villareal     Robert    20\n",
      "27      Lancaster Ruiz      Maria    20\n",
      "28       Ruiz Gregorio  Magdalena    20\n",
      "29     Sanchez Sanchez       Juan    20\n",
      "30     Rivas Maldonado       Yola    20\n",
      "31      Rivas Castillo     Blanca    20\n",
      "32      Romero2 Espejo     Rosaly    20\n",
      "33      Romero3 Espejo    Fiorela    20\n",
      "34      Romero4 Espejo    Josafat    20\n",
      "35      Romero5 Espejo       Jhon    20\n",
      "36      Romero6 Espejo       Flor    20\n",
      "37      Romero7 Espejo        Liz    20\n",
      "38      Romero8 Espejo   Gabriela    20\n",
      "39      Romero9 Espejo     Steven    20\n"
     ]
    },
    {
     "name": "stderr",
     "output_type": "stream",
     "text": [
      "C:\\Users\\Tismart\\AppData\\Local\\Temp\\ipykernel_17996\\1783614779.py:1: UserWarning: pandas only supports SQLAlchemy connectable (engine/connection) or database string URI or sqlite3 DBAPI2 connection. Other DBAPI2 objects are not tested. Please consider using SQLAlchemy.\n",
      "  df=pd.read_sql_query(\"SELECT apellidos, nombres, edad FROM ALUMNO \",conexion)\n"
     ]
    }
   ],
   "source": [
    "df=pd.read_sql_query(\"SELECT apellidos, nombres, edad FROM ALUMNO \",conexion)\n",
    "\n",
    "print(df)"
   ]
  },
  {
   "cell_type": "code",
   "execution_count": 142,
   "id": "1b4a6fa1",
   "metadata": {},
   "outputs": [
    {
     "name": "stdout",
     "output_type": "stream",
     "text": [
      "[(1, 'sasa', 'qqwwq', 20, 1.65, datetime.date(2023, 4, 26)), (2, 'Romero9 Espejo', 'Steven', 20, 1.65, datetime.date(2023, 4, 26)), (3, 'Romero Espejo', 'Maria', 20, 1.65, datetime.date(2023, 4, 26)), (4, 'Marcos Sanchez', 'Jusephe', 20, 1.65, datetime.date(2023, 4, 26)), (5, 'Romero Martinez', 'Jordan', 20, 1.65, datetime.date(2023, 4, 26)), (6, 'Espejo Espejo', 'Juana', 20, 1.65, datetime.date(2023, 4, 26)), (7, 'Martinez Villareal', 'Robert', 20, 1.65, datetime.date(2023, 4, 26)), (8, 'Lancaster Ruiz', 'Maria', 20, 1.65, datetime.date(2023, 4, 26)), (9, 'Ruiz Gregorio', 'Magdalena', 20, 1.65, datetime.date(2023, 4, 26)), (10, 'Sanchez Sanchez', 'Juan', 20, 1.65, datetime.date(2023, 4, 26)), (11, 'Rivas Maldonado', 'Yola', 20, 1.65, datetime.date(2023, 4, 26)), (12, 'Rivas Castillo', 'Blanca', 20, 1.65, datetime.date(2023, 4, 26)), (13, 'Romero2 Espejo', 'Rosaly', 20, 1.65, datetime.date(2023, 4, 26)), (14, 'Romero3 Espejo', 'Fiorela', 20, 1.65, datetime.date(2023, 4, 26)), (15, 'Romero4 Espejo', 'Josafat', 20, 1.65, datetime.date(2023, 4, 26)), (16, 'Romero5 Espejo', 'Jhon', 20, 1.65, datetime.date(2023, 4, 26)), (17, 'Romero6 Espejo', 'Flor', 20, 1.65, datetime.date(2023, 4, 26)), (18, 'Romero7 Espejo', 'Liz', 20, 1.65, datetime.date(2023, 4, 26)), (19, 'Romero8 Espejo', 'Gabriela', 20, 1.65, datetime.date(2023, 4, 26)), (20, 'Modificado3', 'Steven', 20, 1.96, datetime.date(2023, 4, 26)), (21, 'Modificado2', 'Maria', 20, 1.95, datetime.date(2023, 4, 26)), (25, 'Romero Espejo', 'Maria', 20, 1.65, datetime.date(2023, 4, 26)), (26, 'Marcos Sanchez', 'Jusephe', 20, 1.65, datetime.date(2023, 4, 26)), (27, 'Romero Martinez', 'Jordan', 20, 1.65, datetime.date(2023, 4, 26)), (28, 'Espejo Espejo', 'Juana', 20, 1.65, datetime.date(2023, 4, 26)), (29, 'Martinez Villareal', 'Robert', 20, 1.65, datetime.date(2023, 4, 26)), (30, 'Lancaster Ruiz', 'Maria', 20, 1.65, datetime.date(2023, 4, 26)), (31, 'Ruiz Gregorio', 'Magdalena', 20, 1.65, datetime.date(2023, 4, 26)), (32, 'Sanchez Sanchez', 'Juan', 20, 1.65, datetime.date(2023, 4, 26)), (33, 'Rivas Maldonado', 'Yola', 20, 1.65, datetime.date(2023, 4, 26)), (34, 'Rivas Castillo', 'Blanca', 20, 1.65, datetime.date(2023, 4, 26)), (35, 'Romero2 Espejo', 'Rosaly', 20, 1.65, datetime.date(2023, 4, 26)), (36, 'Romero3 Espejo', 'Fiorela', 20, 1.65, datetime.date(2023, 4, 26)), (37, 'Romero4 Espejo', 'Josafat', 20, 1.65, datetime.date(2023, 4, 26)), (38, 'Romero5 Espejo', 'Jhon', 20, 1.65, datetime.date(2023, 4, 26)), (39, 'Romero6 Espejo', 'Flor', 20, 1.65, datetime.date(2023, 4, 26)), (40, 'Romero7 Espejo', 'Liz', 20, 1.65, datetime.date(2023, 4, 26)), (41, 'Romero8 Espejo', 'Gabriela', 20, 1.65, datetime.date(2023, 4, 26)), (42, 'Romero9 Espejo', 'Steven', 20, 1.65, datetime.date(2023, 4, 26))]\n",
      "Total de registros: 39\n"
     ]
    }
   ],
   "source": [
    "cursor=conexion.cursor()\n",
    "cursor.callproc('sp_obtener_alumnos_mayores')\n",
    "for result in cursor.stored_results():\n",
    "    print(result.fetchall())\n",
    "    \n",
    "print(\"Total de registros:\" ,result.rowcount)\n"
   ]
  },
  {
   "cell_type": "code",
   "execution_count": 143,
   "id": "c7e540e3",
   "metadata": {},
   "outputs": [
    {
     "name": "stdout",
     "output_type": "stream",
     "text": [
      "[(2, 'Ingles', datetime.date(2023, 4, 26), 1, 1), (6, 'Ingles', datetime.date(2023, 4, 26), 1, 1), (7, 'Ingles', datetime.date(2023, 4, 26), 2, 1), (8, 'Ingles', datetime.date(2023, 4, 26), 3, 1), (9, 'Ingles', datetime.date(2023, 4, 26), 4, 1), (10, 'Ingles', datetime.date(2023, 4, 26), 5, 1), (11, 'Ingles', datetime.date(2023, 4, 26), 6, 1), (12, 'Ingles', datetime.date(2023, 4, 26), 7, 1)]\n",
      "Total de registros: 8\n"
     ]
    }
   ],
   "source": [
    "cursor=conexion.cursor()\n",
    "cursor.callproc('sp_obtener_cursos')\n",
    "for result in cursor.stored_results():\n",
    "    print(result.fetchall())\n",
    "    \n",
    "print(\"Total de registros:\" ,result.rowcount)"
   ]
  },
  {
   "cell_type": "code",
   "execution_count": 71,
   "id": "8e5a9864",
   "metadata": {},
   "outputs": [
    {
     "name": "stdout",
     "output_type": "stream",
     "text": [
      "La conexión ha finalizado\n"
     ]
    }
   ],
   "source": [
    "#Cerrar Conexion\n",
    "if conexion.is_connected():\n",
    "    conexion.close() #Se cerró la conexión a la BD\n",
    "    print(\"La conexión ha finalizado\")"
   ]
  },
  {
   "cell_type": "code",
   "execution_count": null,
   "id": "18119ea4",
   "metadata": {},
   "outputs": [],
   "source": []
  }
 ],
 "metadata": {
  "kernelspec": {
   "display_name": "Python 3 (ipykernel)",
   "language": "python",
   "name": "python3"
  },
  "language_info": {
   "codemirror_mode": {
    "name": "ipython",
    "version": 3
   },
   "file_extension": ".py",
   "mimetype": "text/x-python",
   "name": "python",
   "nbconvert_exporter": "python",
   "pygments_lexer": "ipython3",
   "version": "3.10.9"
  }
 },
 "nbformat": 4,
 "nbformat_minor": 5
}
