{
 "cells": [
  {
   "cell_type": "code",
   "execution_count": 1,
   "id": "82c1c4bd",
   "metadata": {},
   "outputs": [],
   "source": [
    "# Importando pandas\n",
    "import pandas as pd"
   ]
  },
  {
   "cell_type": "code",
   "execution_count": 3,
   "id": "61109ca8",
   "metadata": {},
   "outputs": [],
   "source": [
    "# Las series son matrices de una sola dimension similares a los vectores, pero con su propio indice.\n",
    "# Creando una Serie\n",
    "serie = pd.Series([2, 4, -8, 3])\n"
   ]
  },
  {
   "cell_type": "code",
   "execution_count": 4,
   "id": "806267b6",
   "metadata": {},
   "outputs": [
    {
     "name": "stdout",
     "output_type": "stream",
     "text": [
      "[ 2  4 -8  3]\n",
      "RangeIndex(start=0, stop=4, step=1)\n"
     ]
    }
   ],
   "source": [
    "# podemos ver tantos los índices como los valores de las Series.\n",
    "print (serie.values)\n",
    "print (serie.index)"
   ]
  },
  {
   "cell_type": "code",
   "execution_count": 5,
   "id": "81a98412",
   "metadata": {},
   "outputs": [],
   "source": [
    "# Creando Series con nuestros propios índices.\n",
    "serie2 = pd.Series([2, 4, -8, 3], index=['d', 'b', 'a', 'c'])"
   ]
  },
  {
   "cell_type": "code",
   "execution_count": 6,
   "id": "62fa2eba",
   "metadata": {},
   "outputs": [
    {
     "name": "stdout",
     "output_type": "stream",
     "text": [
      "d    2\n",
      "b    4\n",
      "a   -8\n",
      "c    3\n",
      "dtype: int64\n"
     ]
    }
   ],
   "source": [
    "print(serie2)"
   ]
  },
  {
   "cell_type": "code",
   "execution_count": 7,
   "id": "2130cca0",
   "metadata": {},
   "outputs": [
    {
     "name": "stdout",
     "output_type": "stream",
     "text": [
      "-8\n",
      "b    4\n",
      "c    3\n",
      "d    2\n",
      "dtype: int64\n",
      "d    2\n",
      "b    4\n",
      "c    3\n",
      "dtype: int64\n"
     ]
    }
   ],
   "source": [
    "# Accediendo a los datos a través de los índices\n",
    "print (serie2['a'])\n",
    "print (serie2[['b', 'c', 'd']])\n",
    "print (serie2[serie2 > 0])"
   ]
  },
  {
   "cell_type": "code",
   "execution_count": 10,
   "id": "91b597d6",
   "metadata": {
    "scrolled": true
   },
   "outputs": [
    {
     "data": {
      "text/html": [
       "<div>\n",
       "<style scoped>\n",
       "    .dataframe tbody tr th:only-of-type {\n",
       "        vertical-align: middle;\n",
       "    }\n",
       "\n",
       "    .dataframe tbody tr th {\n",
       "        vertical-align: top;\n",
       "    }\n",
       "\n",
       "    .dataframe thead th {\n",
       "        text-align: right;\n",
       "    }\n",
       "</style>\n",
       "<table border=\"1\" class=\"dataframe\">\n",
       "  <thead>\n",
       "    <tr style=\"text-align: right;\">\n",
       "      <th></th>\n",
       "      <th>Ciudades</th>\n",
       "      <th>años</th>\n",
       "      <th>poblaciones</th>\n",
       "    </tr>\n",
       "  </thead>\n",
       "  <tbody>\n",
       "    <tr>\n",
       "      <th>0</th>\n",
       "      <td>Lima</td>\n",
       "      <td>2000</td>\n",
       "      <td>1.5</td>\n",
       "    </tr>\n",
       "    <tr>\n",
       "      <th>1</th>\n",
       "      <td>Lima</td>\n",
       "      <td>2001</td>\n",
       "      <td>1.7</td>\n",
       "    </tr>\n",
       "    <tr>\n",
       "      <th>2</th>\n",
       "      <td>Lima</td>\n",
       "      <td>2002</td>\n",
       "      <td>3.6</td>\n",
       "    </tr>\n",
       "    <tr>\n",
       "      <th>3</th>\n",
       "      <td>Arequipa</td>\n",
       "      <td>2001</td>\n",
       "      <td>2.4</td>\n",
       "    </tr>\n",
       "    <tr>\n",
       "      <th>4</th>\n",
       "      <td>Arequipa</td>\n",
       "      <td>2002</td>\n",
       "      <td>2.9</td>\n",
       "    </tr>\n",
       "  </tbody>\n",
       "</table>\n",
       "</div>"
      ],
      "text/plain": [
       "   Ciudades  años  poblaciones\n",
       "0      Lima  2000          1.5\n",
       "1      Lima  2001          1.7\n",
       "2      Lima  2002          3.6\n",
       "3  Arequipa  2001          2.4\n",
       "4  Arequipa  2002          2.9"
      ]
     },
     "execution_count": 10,
     "metadata": {},
     "output_type": "execute_result"
    }
   ],
   "source": [
    "# El DataFrame es una estructura de datos tabular similar a las hojas de cálculo de Excel.\n",
    "# Posee tanto indices de columnas como de filas.\n",
    "# Creando un DataFrame.\n",
    "data = {'Ciudades': ['Lima', 'Lima', 'Lima', 'Arequipa', 'Arequipa'],\n",
    "        'años' : [2000, 2001, 2002, 2001, 2002],\n",
    "        'poblaciones'  : [1.5, 1.7, 3.6, 2.4, 2.9]}\n",
    "frame = pd.DataFrame(data) # Creando un DataFrame desde un diccionario\n",
    "frame"
   ]
  },
  {
   "cell_type": "code",
   "execution_count": null,
   "id": "555025c2",
   "metadata": {},
   "outputs": [],
   "source": []
  }
 ],
 "metadata": {
  "kernelspec": {
   "display_name": "3.9.13",
   "language": "python",
   "name": "python3"
  },
  "language_info": {
   "codemirror_mode": {
    "name": "ipython",
    "version": 3
   },
   "file_extension": ".py",
   "mimetype": "text/x-python",
   "name": "python",
   "nbconvert_exporter": "python",
   "pygments_lexer": "ipython3",
   "version": "3.9.13"
  }
 },
 "nbformat": 4,
 "nbformat_minor": 5
}
