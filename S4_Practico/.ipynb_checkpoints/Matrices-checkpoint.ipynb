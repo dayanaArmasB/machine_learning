{
 "cells": [
  {
   "cell_type": "code",
   "execution_count": 1,
   "id": "4bd10be6",
   "metadata": {},
   "outputs": [],
   "source": [
    "import numpy as np"
   ]
  },
  {
   "cell_type": "code",
   "execution_count": 2,
   "id": "1f7c9051",
   "metadata": {},
   "outputs": [],
   "source": [
    "#Creando un vector desde una lista de Python\n",
    "vector = np.array([1, 2, 3, 4])"
   ]
  },
  {
   "cell_type": "code",
   "execution_count": 3,
   "id": "a1e1ecca",
   "metadata": {},
   "outputs": [],
   "source": [
    "#Para crear una matriz, simplemente le pasamos una lista anidada al objeto array de Numpy\n",
    "matriz = np.array([[1, 2], [3, 4]])"
   ]
  },
  {
   "cell_type": "code",
   "execution_count": 4,
   "id": "2fa16f24",
   "metadata": {},
   "outputs": [
    {
     "data": {
      "text/plain": [
       "(numpy.ndarray, numpy.ndarray)"
      ]
     },
     "execution_count": 4,
     "metadata": {},
     "output_type": "execute_result"
    }
   ],
   "source": [
    "#El tipo de objeto de tanto de los vectores como de las matrices es ndarray\n",
    "type(vector), type(matriz)"
   ]
  },
  {
   "cell_type": "code",
   "execution_count": 5,
   "id": "8706d8a3",
   "metadata": {},
   "outputs": [
    {
     "name": "stdout",
     "output_type": "stream",
     "text": [
      "(4,) 4\n",
      "(2, 2) 4\n"
     ]
    }
   ],
   "source": [
    "#Los objetos ndarray de Numpy cuentan con las propiedades shape y size que nos muestran sus dimensiones.\n",
    "print (vector.shape, vector.size)\n",
    "\n",
    "print (matriz.shape, matriz.size)"
   ]
  },
  {
   "cell_type": "code",
   "execution_count": 8,
   "id": "d9f55b00",
   "metadata": {},
   "outputs": [
    {
     "data": {
      "text/plain": [
       "array([ 1,  2,  3,  4,  5,  6,  7,  8,  9, 10])"
      ]
     },
     "execution_count": 8,
     "metadata": {},
     "output_type": "execute_result"
    }
   ],
   "source": [
    "#arange\n",
    "#La funcion arange nos facilita la creación de matrices\n",
    "x = np.arange(1, 11, 1) # argumentos: start, stop, step\n",
    "x"
   ]
  },
  {
   "cell_type": "code",
   "execution_count": 13,
   "id": "3782cc0c",
   "metadata": {},
   "outputs": [
    {
     "data": {
      "text/plain": [
       "array([ 1.,  9., 17., 25.])"
      ]
     },
     "execution_count": 13,
     "metadata": {},
     "output_type": "execute_result"
    }
   ],
   "source": [
    "#linspace\n",
    "#linspace nos devuelve un vector con la cantidad de muestras que le ingresemos y separados uniformamente entre sí.\n",
    "np.linspace(1, 25, 4)  # argumentos: start, stop, samples"
   ]
  },
  {
   "cell_type": "code",
   "execution_count": 15,
   "id": "97bcf2b5",
   "metadata": {},
   "outputs": [],
   "source": [
    "#mgrid\n",
    "#Con mgrid podemos crear arrays multimensionales.\n",
    "x, y = np.mgrid[0:5, 0:5]"
   ]
  },
  {
   "cell_type": "code",
   "execution_count": 16,
   "id": "a4954107",
   "metadata": {},
   "outputs": [
    {
     "data": {
      "text/plain": [
       "array([[0, 0, 0, 0, 0],\n",
       "       [1, 1, 1, 1, 1],\n",
       "       [2, 2, 2, 2, 2],\n",
       "       [3, 3, 3, 3, 3],\n",
       "       [4, 4, 4, 4, 4]])"
      ]
     },
     "execution_count": 16,
     "metadata": {},
     "output_type": "execute_result"
    }
   ],
   "source": [
    "#A nivel de filas\n",
    "x"
   ]
  },
  {
   "cell_type": "code",
   "execution_count": 17,
   "id": "daa3012a",
   "metadata": {},
   "outputs": [
    {
     "data": {
      "text/plain": [
       "array([[0, 1, 2, 3, 4],\n",
       "       [0, 1, 2, 3, 4],\n",
       "       [0, 1, 2, 3, 4],\n",
       "       [0, 1, 2, 3, 4],\n",
       "       [0, 1, 2, 3, 4]])"
      ]
     },
     "execution_count": 17,
     "metadata": {},
     "output_type": "execute_result"
    }
   ],
   "source": [
    "#A nivel de columnas\n",
    "y"
   ]
  },
  {
   "cell_type": "code",
   "execution_count": 11,
   "id": "7abc5ef5",
   "metadata": {},
   "outputs": [
    {
     "data": {
      "text/plain": [
       "(array([[0, 0, 0, 0, 0],\n",
       "        [1, 1, 1, 1, 1],\n",
       "        [2, 2, 2, 2, 2],\n",
       "        [3, 3, 3, 3, 3],\n",
       "        [4, 4, 4, 4, 4]]),\n",
       " array([[0, 1, 2, 3, 4],\n",
       "        [0, 1, 2, 3, 4],\n",
       "        [0, 1, 2, 3, 4],\n",
       "        [0, 1, 2, 3, 4],\n",
       "        [0, 1, 2, 3, 4]]))"
      ]
     },
     "execution_count": 11,
     "metadata": {},
     "output_type": "execute_result"
    }
   ],
   "source": [
    "x,y"
   ]
  },
  {
   "cell_type": "code",
   "execution_count": 21,
   "id": "d47c386c",
   "metadata": {},
   "outputs": [
    {
     "data": {
      "text/plain": [
       "array([[0., 0., 0.],\n",
       "       [0., 0., 0.],\n",
       "       [0., 0., 0.]])"
      ]
     },
     "execution_count": 21,
     "metadata": {},
     "output_type": "execute_result"
    }
   ],
   "source": [
    "#zeros y ones\n",
    "#Estas funciones nos permiten crear matrices de ceros o de unos.\n",
    "np.zeros((3,3))"
   ]
  },
  {
   "cell_type": "code",
   "execution_count": 22,
   "id": "952ff3c7",
   "metadata": {},
   "outputs": [
    {
     "data": {
      "text/plain": [
       "array([[1., 1., 1.],\n",
       "       [1., 1., 1.],\n",
       "       [1., 1., 1.]])"
      ]
     },
     "execution_count": 22,
     "metadata": {},
     "output_type": "execute_result"
    }
   ],
   "source": [
    "np.ones((3,3))"
   ]
  },
  {
   "cell_type": "code",
   "execution_count": 18,
   "id": "3035aceb",
   "metadata": {},
   "outputs": [
    {
     "data": {
      "text/plain": [
       "array([[ 7.93978087e-01,  6.48119441e-01, -5.08169549e-01,\n",
       "         3.05451248e-01,  1.15809267e+00, -2.12867402e-01,\n",
       "        -3.20476852e-01],\n",
       "       [-7.91958577e-01,  3.12204068e-01, -6.44244686e-01,\n",
       "         1.61704454e+00,  6.35674797e-01,  4.47469351e-01,\n",
       "         1.26005351e+00],\n",
       "       [-9.16282367e-01, -1.83106106e+00, -1.67999049e-01,\n",
       "         1.65106476e-01,  2.35680458e-02,  5.22603106e-01,\n",
       "         4.14799717e-01],\n",
       "       [ 5.20368539e-01,  9.40820453e-01,  1.63769377e+00,\n",
       "         1.08672853e+00,  1.18323205e+00, -6.97065648e-04,\n",
       "         4.49885403e-01],\n",
       "       [-1.33927564e+00,  8.02587361e-01, -6.77221774e-02,\n",
       "         4.30915875e-01,  4.82750058e-01,  6.59131934e-01,\n",
       "         4.23413803e-01]])"
      ]
     },
     "execution_count": 18,
     "metadata": {},
     "output_type": "execute_result"
    }
   ],
   "source": [
    "#random.randn\n",
    "#Esta funcion nos permite generar una matriz con una distribución estándar de números.\n",
    "#Generamos 5 filas y 7 columnas\n",
    "np.random.randn(5,7)"
   ]
  },
  {
   "cell_type": "code",
   "execution_count": 22,
   "id": "1543fb26",
   "metadata": {},
   "outputs": [
    {
     "data": {
      "text/plain": [
       "array([[ 1,  0,  0,  0],\n",
       "       [ 0,  6,  0,  0],\n",
       "       [ 0,  0,  9,  0],\n",
       "       [ 0,  0,  0, 15]])"
      ]
     },
     "execution_count": 22,
     "metadata": {},
     "output_type": "execute_result"
    }
   ],
   "source": [
    "#diag\n",
    "#Nos permite crear una matriz con la diagonal de números que le ingresemos.\n",
    "np.diag([1,6,9,15])"
   ]
  },
  {
   "cell_type": "code",
   "execution_count": 25,
   "id": "6f2230cd",
   "metadata": {},
   "outputs": [],
   "source": []
  },
  {
   "cell_type": "code",
   "execution_count": 31,
   "id": "eb2efb14",
   "metadata": {},
   "outputs": [],
   "source": []
  },
  {
   "cell_type": "code",
   "execution_count": 32,
   "id": "1bb45df8",
   "metadata": {},
   "outputs": [],
   "source": []
  },
  {
   "cell_type": "code",
   "execution_count": null,
   "id": "fcf87fdd",
   "metadata": {},
   "outputs": [],
   "source": []
  },
  {
   "cell_type": "code",
   "execution_count": null,
   "id": "20dd50c4",
   "metadata": {},
   "outputs": [],
   "source": []
  }
 ],
 "metadata": {
  "kernelspec": {
   "display_name": "Python 3 (ipykernel)",
   "language": "python",
   "name": "python3"
  },
  "language_info": {
   "codemirror_mode": {
    "name": "ipython",
    "version": 3
   },
   "file_extension": ".py",
   "mimetype": "text/x-python",
   "name": "python",
   "nbconvert_exporter": "python",
   "pygments_lexer": "ipython3",
   "version": "3.10.9"
  }
 },
 "nbformat": 4,
 "nbformat_minor": 5
}
