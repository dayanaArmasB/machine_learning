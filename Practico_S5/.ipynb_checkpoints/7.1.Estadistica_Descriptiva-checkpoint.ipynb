{
 "cells": [
  {
   "cell_type": "code",
   "execution_count": 1,
   "id": "06ee3632",
   "metadata": {},
   "outputs": [],
   "source": [
    "# Ejemplos de estadistica descriptiva con python\n",
    "\n",
    "import numpy as np # importando numpy\n",
    "from scipy import stats # importando scipy.stats\n",
    "import pandas as pd # importando pandas\n",
    "\n",
    "np.random.seed(2131982) # para poder replicar el random"
   ]
  },
  {
   "cell_type": "code",
   "execution_count": 3,
   "id": "2e58ea46",
   "metadata": {},
   "outputs": [
    {
     "data": {
      "text/plain": [
       "array([[ 1.67506019, -0.96206654, -0.56642475,  0.05249989],\n",
       "       [-1.43075098, -2.61689912,  0.2934247 , -1.57887913],\n",
       "       [ 0.12762303, -0.43609918,  0.87183416,  0.8429677 ],\n",
       "       [-1.68163145,  2.28013096,  0.48126528, -0.15789303],\n",
       "       [ 1.6143065 , -1.75129997,  0.86925338,  1.04526093]])"
      ]
     },
     "execution_count": 3,
     "metadata": {},
     "output_type": "execute_result"
    }
   ],
   "source": [
    "datos = np.random.randn(5, 4) # datos normalmente distribuidos\n",
    "datos"
   ]
  },
  {
   "cell_type": "code",
   "execution_count": 5,
   "id": "18a279c7",
   "metadata": {},
   "outputs": [
    {
     "data": {
      "text/plain": [
       "-0.05141587089184916"
      ]
     },
     "execution_count": 5,
     "metadata": {},
     "output_type": "execute_result"
    }
   ],
   "source": [
    "# media arítmetica\n",
    "datos.mean() # Calcula la media aritmetica de"
   ]
  },
  {
   "cell_type": "code",
   "execution_count": 6,
   "id": "5a389d68",
   "metadata": {},
   "outputs": [
    {
     "data": {
      "text/plain": [
       "-0.05141587089184916"
      ]
     },
     "execution_count": 6,
     "metadata": {},
     "output_type": "execute_result"
    }
   ],
   "source": [
    "np.mean(datos) # Mismo resultado desde la funcion de numpy"
   ]
  },
  {
   "cell_type": "code",
   "execution_count": 7,
   "id": "15981a23",
   "metadata": {},
   "outputs": [
    {
     "data": {
      "text/plain": [
       "array([ 0.0497672 , -1.33327613,  0.35158143,  0.23046794,  0.44438021])"
      ]
     },
     "execution_count": 7,
     "metadata": {},
     "output_type": "execute_result"
    }
   ],
   "source": [
    "datos.mean(axis=1) # media aritmetica de cada fila"
   ]
  },
  {
   "cell_type": "code",
   "execution_count": 8,
   "id": "610849dd",
   "metadata": {},
   "outputs": [
    {
     "data": {
      "text/plain": [
       "array([ 0.06092146, -0.69724677,  0.38987056,  0.04079127])"
      ]
     },
     "execution_count": 8,
     "metadata": {},
     "output_type": "execute_result"
    }
   ],
   "source": [
    "datos.mean(axis=0) # media aritmetica de cada columna"
   ]
  },
  {
   "cell_type": "code",
   "execution_count": 9,
   "id": "3578fe62",
   "metadata": {},
   "outputs": [
    {
     "data": {
      "text/plain": [
       "0.09006146190938408"
      ]
     },
     "execution_count": 9,
     "metadata": {},
     "output_type": "execute_result"
    }
   ],
   "source": [
    "# mediana\n",
    "np.median(datos)"
   ]
  },
  {
   "cell_type": "code",
   "execution_count": 11,
   "id": "1222a5cb",
   "metadata": {},
   "outputs": [
    {
     "data": {
      "text/plain": [
       "array([ 0.12762303, -0.96206654,  0.48126528,  0.05249989])"
      ]
     },
     "execution_count": 11,
     "metadata": {},
     "output_type": "execute_result"
    }
   ],
   "source": [
    "np.median(datos, 0) # media aritmetica de cada columna"
   ]
  },
  {
   "cell_type": "code",
   "execution_count": 14,
   "id": "ec8b7feb",
   "metadata": {},
   "outputs": [
    {
     "data": {
      "text/plain": [
       "array([-0.25696243, -1.50481505,  0.48529537,  0.16168613,  0.95725716])"
      ]
     },
     "execution_count": 14,
     "metadata": {},
     "output_type": "execute_result"
    }
   ],
   "source": [
    "np.median(datos, 1) # media aritmetica de cada fila"
   ]
  },
  {
   "cell_type": "code",
   "execution_count": 16,
   "id": "50d092ac",
   "metadata": {},
   "outputs": [
    {
     "data": {
      "text/plain": [
       "1.2837071941389726"
      ]
     },
     "execution_count": 16,
     "metadata": {},
     "output_type": "execute_result"
    }
   ],
   "source": [
    " # Desviación típica\n",
    "np.std(datos)"
   ]
  },
  {
   "cell_type": "code",
   "execution_count": 17,
   "id": "992d291e",
   "metadata": {},
   "outputs": [
    {
     "data": {
      "text/plain": [
       "array([1.43418794, 1.66127656, 0.52806293, 0.92902003])"
      ]
     },
     "execution_count": 17,
     "metadata": {},
     "output_type": "execute_result"
    }
   ],
   "source": [
    "np.std(datos, 0) # Desviación típica de cada columna"
   ]
  },
  {
   "cell_type": "code",
   "execution_count": 19,
   "id": "a7bae7a2",
   "metadata": {},
   "outputs": [
    {
     "data": {
      "text/plain": [
       "array([1.00561981, 1.04446945, 0.543765  , 1.42047229, 1.29723878])"
      ]
     },
     "execution_count": 19,
     "metadata": {},
     "output_type": "execute_result"
    }
   ],
   "source": [
    "np.std(datos, 1) # Desviación típica de cada fila"
   ]
  },
  {
   "cell_type": "code",
   "execution_count": 21,
   "id": "e36c0643",
   "metadata": {},
   "outputs": [
    {
     "data": {
      "text/plain": [
       "1.647904160284154"
      ]
     },
     "execution_count": 21,
     "metadata": {},
     "output_type": "execute_result"
    }
   ],
   "source": [
    "# varianza\n",
    "np.var(datos)"
   ]
  },
  {
   "cell_type": "code",
   "execution_count": 22,
   "id": "ba546b85",
   "metadata": {},
   "outputs": [
    {
     "data": {
      "text/plain": [
       "array([2.05689506, 2.75983981, 0.27885046, 0.86307822])"
      ]
     },
     "execution_count": 22,
     "metadata": {},
     "output_type": "execute_result"
    }
   ],
   "source": [
    "np.var(datos, 0) # varianza de cada columna"
   ]
  },
  {
   "cell_type": "code",
   "execution_count": 25,
   "id": "2b6eccf0",
   "metadata": {},
   "outputs": [
    {
     "data": {
      "text/plain": [
       "array([1.0112712 , 1.09091644, 0.29568037, 2.01774153, 1.68282846])"
      ]
     },
     "execution_count": 25,
     "metadata": {},
     "output_type": "execute_result"
    }
   ],
   "source": [
    "np.var(datos, 1) # varianza de cada fila"
   ]
  },
  {
   "cell_type": "code",
   "execution_count": 26,
   "id": "79bfe3dd",
   "metadata": {},
   "outputs": [
    {
     "name": "stderr",
     "output_type": "stream",
     "text": [
      "C:\\Users\\Tismart\\AppData\\Local\\Temp\\ipykernel_4164\\84078822.py:2: FutureWarning: Unlike other reduction functions (e.g. `skew`, `kurtosis`), the default behavior of `mode` typically preserves the axis it acts along. In SciPy 1.11.0, this behavior will change: the default value of `keepdims` will become False, the `axis` over which the statistic is taken will be eliminated, and the value None will no longer be accepted. Set `keepdims` to True or False to avoid this warning.\n",
      "  stats.mode(datos) # Calcula la moda de cada columna\n"
     ]
    },
    {
     "data": {
      "text/plain": [
       "ModeResult(mode=array([[-1.68163145, -2.61689912, -0.56642475, -1.57887913]]), count=array([[1, 1, 1, 1]]))"
      ]
     },
     "execution_count": 26,
     "metadata": {},
     "output_type": "execute_result"
    }
   ],
   "source": [
    "# moda\n",
    "stats.mode(datos) # Calcula la moda de cada columna\n",
    "# el 2do array devuelve la frecuencia."
   ]
  },
  {
   "cell_type": "code",
   "execution_count": 28,
   "id": "77b1da32",
   "metadata": {},
   "outputs": [
    {
     "name": "stderr",
     "output_type": "stream",
     "text": [
      "C:\\Users\\Tismart\\AppData\\Local\\Temp\\ipykernel_4164\\2524170566.py:2: FutureWarning: Unlike other reduction functions (e.g. `skew`, `kurtosis`), the default behavior of `mode` typically preserves the axis it acts along. In SciPy 1.11.0, this behavior will change: the default value of `keepdims` will become False, the `axis` over which the statistic is taken will be eliminated, and the value None will no longer be accepted. Set `keepdims` to True or False to avoid this warning.\n",
      "  stats.mode(datos2) # aqui la moda es el 6 porque aparece 5 veces en el vector.\n"
     ]
    },
    {
     "data": {
      "text/plain": [
       "ModeResult(mode=array([6]), count=array([5]))"
      ]
     },
     "execution_count": 28,
     "metadata": {},
     "output_type": "execute_result"
    }
   ],
   "source": [
    "datos2 = np.array([1, 2, 3, 6, 6, 1, 2, 4, 2, 2, 6, 6, 8, 10, 6])\n",
    "stats.mode(datos2) # aqui la moda es el 6 porque aparece 5 veces en el vector."
   ]
  },
  {
   "cell_type": "code",
   "execution_count": 30,
   "id": "3b38de20",
   "metadata": {},
   "outputs": [
    {
     "data": {
      "text/plain": [
       "array([[ 1.        ,  0.03269343,  0.05201478, -0.93409317,  0.74030068],\n",
       "       [ 0.03269343,  1.        ,  0.77407231, -0.32711073,  0.59928548],\n",
       "       [ 0.05201478,  0.77407231,  1.        , -0.40348308,  0.70307819],\n",
       "       [-0.93409317, -0.32711073, -0.40348308,  1.        , -0.9312764 ],\n",
       "       [ 0.74030068,  0.59928548,  0.70307819, -0.9312764 ,  1.        ]])"
      ]
     },
     "execution_count": 30,
     "metadata": {},
     "output_type": "execute_result"
    }
   ],
   "source": [
    "# correlacion\n",
    "np.corrcoef(datos) # Crea matriz de correlación."
   ]
  },
  {
   "cell_type": "code",
   "execution_count": 31,
   "id": "531cdd4a",
   "metadata": {},
   "outputs": [
    {
     "data": {
      "text/plain": [
       "array([[1.        , 0.03269343],\n",
       "       [0.03269343, 1.        ]])"
      ]
     },
     "execution_count": 31,
     "metadata": {},
     "output_type": "execute_result"
    }
   ],
   "source": [
    "# calculando la correlación entre dos vectores.\n",
    "np.corrcoef(datos[0], datos[1])"
   ]
  },
  {
   "cell_type": "code",
   "execution_count": 32,
   "id": "86aaa938",
   "metadata": {},
   "outputs": [
    {
     "data": {
      "text/plain": [
       "array([[ 1.3483616 ,  0.04578559,  0.03792369, -1.77908017,  1.2876583 ],\n",
       "       [ 0.04578559,  1.45455525,  0.58617495, -0.64708604,  1.0826502 ],\n",
       "       [ 0.03792369,  0.58617495,  0.39424049, -0.41553545,  0.66126195],\n",
       "       [-1.77908017, -0.64708604, -0.41553545,  2.69032204, -2.28807379],\n",
       "       [ 1.2876583 ,  1.0826502 ,  0.66126195, -2.28807379,  2.24377128]])"
      ]
     },
     "execution_count": 32,
     "metadata": {},
     "output_type": "execute_result"
    }
   ],
   "source": [
    "# covarianza\n",
    "np.cov(datos) # calcula matriz de covarianza"
   ]
  },
  {
   "cell_type": "code",
   "execution_count": 33,
   "id": "6504af16",
   "metadata": {},
   "outputs": [
    {
     "data": {
      "text/plain": [
       "array([[1.3483616 , 0.04578559],\n",
       "       [0.04578559, 1.45455525]])"
      ]
     },
     "execution_count": 33,
     "metadata": {},
     "output_type": "execute_result"
    }
   ],
   "source": [
    "# covarianza de dos vectores\n",
    "np.cov(datos[0], datos[1])"
   ]
  },
  {
   "cell_type": "code",
   "execution_count": 36,
   "id": "3e9dace3",
   "metadata": {},
   "outputs": [
    {
     "data": {
      "text/html": [
       "<div>\n",
       "<style scoped>\n",
       "    .dataframe tbody tr th:only-of-type {\n",
       "        vertical-align: middle;\n",
       "    }\n",
       "\n",
       "    .dataframe tbody tr th {\n",
       "        vertical-align: top;\n",
       "    }\n",
       "\n",
       "    .dataframe thead th {\n",
       "        text-align: right;\n",
       "    }\n",
       "</style>\n",
       "<table border=\"1\" class=\"dataframe\">\n",
       "  <thead>\n",
       "    <tr style=\"text-align: right;\">\n",
       "      <th></th>\n",
       "      <th>col1</th>\n",
       "      <th>col2</th>\n",
       "      <th>col3</th>\n",
       "      <th>col4</th>\n",
       "    </tr>\n",
       "  </thead>\n",
       "  <tbody>\n",
       "    <tr>\n",
       "      <th>a</th>\n",
       "      <td>1.675060</td>\n",
       "      <td>-0.962067</td>\n",
       "      <td>-0.566425</td>\n",
       "      <td>0.052500</td>\n",
       "    </tr>\n",
       "    <tr>\n",
       "      <th>b</th>\n",
       "      <td>-1.430751</td>\n",
       "      <td>-2.616899</td>\n",
       "      <td>0.293425</td>\n",
       "      <td>-1.578879</td>\n",
       "    </tr>\n",
       "    <tr>\n",
       "      <th>c</th>\n",
       "      <td>0.127623</td>\n",
       "      <td>-0.436099</td>\n",
       "      <td>0.871834</td>\n",
       "      <td>0.842968</td>\n",
       "    </tr>\n",
       "    <tr>\n",
       "      <th>d</th>\n",
       "      <td>-1.681631</td>\n",
       "      <td>2.280131</td>\n",
       "      <td>0.481265</td>\n",
       "      <td>-0.157893</td>\n",
       "    </tr>\n",
       "    <tr>\n",
       "      <th>e</th>\n",
       "      <td>1.614306</td>\n",
       "      <td>-1.751300</td>\n",
       "      <td>0.869253</td>\n",
       "      <td>1.045261</td>\n",
       "    </tr>\n",
       "  </tbody>\n",
       "</table>\n",
       "</div>"
      ],
      "text/plain": [
       "       col1      col2      col3      col4\n",
       "a  1.675060 -0.962067 -0.566425  0.052500\n",
       "b -1.430751 -2.616899  0.293425 -1.578879\n",
       "c  0.127623 -0.436099  0.871834  0.842968\n",
       "d -1.681631  2.280131  0.481265 -0.157893\n",
       "e  1.614306 -1.751300  0.869253  1.045261"
      ]
     },
     "execution_count": 36,
     "metadata": {},
     "output_type": "execute_result"
    }
   ],
   "source": [
    "# usando pandas\n",
    "dataframe = pd.DataFrame(datos, index=['a', 'b', 'c', 'd', 'e'], \n",
    "                        columns=['col1', 'col2', 'col3', 'col4'])\n",
    "dataframe"
   ]
  },
  {
   "cell_type": "code",
   "execution_count": 37,
   "id": "44335131",
   "metadata": {},
   "outputs": [
    {
     "data": {
      "text/html": [
       "<div>\n",
       "<style scoped>\n",
       "    .dataframe tbody tr th:only-of-type {\n",
       "        vertical-align: middle;\n",
       "    }\n",
       "\n",
       "    .dataframe tbody tr th {\n",
       "        vertical-align: top;\n",
       "    }\n",
       "\n",
       "    .dataframe thead th {\n",
       "        text-align: right;\n",
       "    }\n",
       "</style>\n",
       "<table border=\"1\" class=\"dataframe\">\n",
       "  <thead>\n",
       "    <tr style=\"text-align: right;\">\n",
       "      <th></th>\n",
       "      <th>col1</th>\n",
       "      <th>col2</th>\n",
       "      <th>col3</th>\n",
       "      <th>col4</th>\n",
       "    </tr>\n",
       "  </thead>\n",
       "  <tbody>\n",
       "    <tr>\n",
       "      <th>count</th>\n",
       "      <td>5.000000</td>\n",
       "      <td>5.000000</td>\n",
       "      <td>5.000000</td>\n",
       "      <td>5.000000</td>\n",
       "    </tr>\n",
       "    <tr>\n",
       "      <th>mean</th>\n",
       "      <td>0.060921</td>\n",
       "      <td>-0.697247</td>\n",
       "      <td>0.389871</td>\n",
       "      <td>0.040791</td>\n",
       "    </tr>\n",
       "    <tr>\n",
       "      <th>std</th>\n",
       "      <td>1.603471</td>\n",
       "      <td>1.857364</td>\n",
       "      <td>0.590392</td>\n",
       "      <td>1.038676</td>\n",
       "    </tr>\n",
       "    <tr>\n",
       "      <th>min</th>\n",
       "      <td>-1.681631</td>\n",
       "      <td>-2.616899</td>\n",
       "      <td>-0.566425</td>\n",
       "      <td>-1.578879</td>\n",
       "    </tr>\n",
       "    <tr>\n",
       "      <th>25%</th>\n",
       "      <td>-1.430751</td>\n",
       "      <td>-1.751300</td>\n",
       "      <td>0.293425</td>\n",
       "      <td>-0.157893</td>\n",
       "    </tr>\n",
       "    <tr>\n",
       "      <th>50%</th>\n",
       "      <td>0.127623</td>\n",
       "      <td>-0.962067</td>\n",
       "      <td>0.481265</td>\n",
       "      <td>0.052500</td>\n",
       "    </tr>\n",
       "    <tr>\n",
       "      <th>75%</th>\n",
       "      <td>1.614306</td>\n",
       "      <td>-0.436099</td>\n",
       "      <td>0.869253</td>\n",
       "      <td>0.842968</td>\n",
       "    </tr>\n",
       "    <tr>\n",
       "      <th>max</th>\n",
       "      <td>1.675060</td>\n",
       "      <td>2.280131</td>\n",
       "      <td>0.871834</td>\n",
       "      <td>1.045261</td>\n",
       "    </tr>\n",
       "  </tbody>\n",
       "</table>\n",
       "</div>"
      ],
      "text/plain": [
       "           col1      col2      col3      col4\n",
       "count  5.000000  5.000000  5.000000  5.000000\n",
       "mean   0.060921 -0.697247  0.389871  0.040791\n",
       "std    1.603471  1.857364  0.590392  1.038676\n",
       "min   -1.681631 -2.616899 -0.566425 -1.578879\n",
       "25%   -1.430751 -1.751300  0.293425 -0.157893\n",
       "50%    0.127623 -0.962067  0.481265  0.052500\n",
       "75%    1.614306 -0.436099  0.869253  0.842968\n",
       "max    1.675060  2.280131  0.871834  1.045261"
      ]
     },
     "execution_count": 37,
     "metadata": {},
     "output_type": "execute_result"
    }
   ],
   "source": [
    "# resumen estadistadistico con pandas\n",
    "dataframe.describe()"
   ]
  },
  {
   "cell_type": "code",
   "execution_count": 42,
   "id": "f7322b3d",
   "metadata": {},
   "outputs": [
    {
     "data": {
      "text/plain": [
       "col1    0.304607\n",
       "col2   -3.486234\n",
       "col3    1.949353\n",
       "col4    0.203956\n",
       "dtype: float64"
      ]
     },
     "execution_count": 42,
     "metadata": {},
     "output_type": "execute_result"
    }
   ],
   "source": [
    "# sumando las columnas\n",
    "dataframe.sum(axis=0)\n",
    "#dataframe.sum()"
   ]
  },
  {
   "cell_type": "code",
   "execution_count": 43,
   "id": "8412a785",
   "metadata": {},
   "outputs": [
    {
     "data": {
      "text/plain": [
       "a    0.199069\n",
       "b   -5.333105\n",
       "c    1.406326\n",
       "d    0.921872\n",
       "e    1.777521\n",
       "dtype: float64"
      ]
     },
     "execution_count": 43,
     "metadata": {},
     "output_type": "execute_result"
    }
   ],
   "source": [
    "# sumando filas\n",
    "dataframe.sum(axis=1)"
   ]
  },
  {
   "cell_type": "code",
   "execution_count": 44,
   "id": "1d76ebf2",
   "metadata": {},
   "outputs": [
    {
     "data": {
      "text/html": [
       "<div>\n",
       "<style scoped>\n",
       "    .dataframe tbody tr th:only-of-type {\n",
       "        vertical-align: middle;\n",
       "    }\n",
       "\n",
       "    .dataframe tbody tr th {\n",
       "        vertical-align: top;\n",
       "    }\n",
       "\n",
       "    .dataframe thead th {\n",
       "        text-align: right;\n",
       "    }\n",
       "</style>\n",
       "<table border=\"1\" class=\"dataframe\">\n",
       "  <thead>\n",
       "    <tr style=\"text-align: right;\">\n",
       "      <th></th>\n",
       "      <th>col1</th>\n",
       "      <th>col2</th>\n",
       "      <th>col3</th>\n",
       "      <th>col4</th>\n",
       "    </tr>\n",
       "  </thead>\n",
       "  <tbody>\n",
       "    <tr>\n",
       "      <th>a</th>\n",
       "      <td>1.675060</td>\n",
       "      <td>-0.962067</td>\n",
       "      <td>-0.566425</td>\n",
       "      <td>0.052500</td>\n",
       "    </tr>\n",
       "    <tr>\n",
       "      <th>b</th>\n",
       "      <td>0.244309</td>\n",
       "      <td>-3.578966</td>\n",
       "      <td>-0.273000</td>\n",
       "      <td>-1.526379</td>\n",
       "    </tr>\n",
       "    <tr>\n",
       "      <th>c</th>\n",
       "      <td>0.371932</td>\n",
       "      <td>-4.015065</td>\n",
       "      <td>0.598834</td>\n",
       "      <td>-0.683412</td>\n",
       "    </tr>\n",
       "    <tr>\n",
       "      <th>d</th>\n",
       "      <td>-1.309699</td>\n",
       "      <td>-1.734934</td>\n",
       "      <td>1.080099</td>\n",
       "      <td>-0.841305</td>\n",
       "    </tr>\n",
       "    <tr>\n",
       "      <th>e</th>\n",
       "      <td>0.304607</td>\n",
       "      <td>-3.486234</td>\n",
       "      <td>1.949353</td>\n",
       "      <td>0.203956</td>\n",
       "    </tr>\n",
       "  </tbody>\n",
       "</table>\n",
       "</div>"
      ],
      "text/plain": [
       "       col1      col2      col3      col4\n",
       "a  1.675060 -0.962067 -0.566425  0.052500\n",
       "b  0.244309 -3.578966 -0.273000 -1.526379\n",
       "c  0.371932 -4.015065  0.598834 -0.683412\n",
       "d -1.309699 -1.734934  1.080099 -0.841305\n",
       "e  0.304607 -3.486234  1.949353  0.203956"
      ]
     },
     "execution_count": 44,
     "metadata": {},
     "output_type": "execute_result"
    }
   ],
   "source": [
    "dataframe.cumsum() # acumulados"
   ]
  },
  {
   "cell_type": "code",
   "execution_count": 46,
   "id": "06a0d914",
   "metadata": {},
   "outputs": [
    {
     "data": {
      "text/plain": [
       "col1    0.060921\n",
       "col2   -0.697247\n",
       "col3    0.389871\n",
       "col4    0.040791\n",
       "dtype: float64"
      ]
     },
     "execution_count": 46,
     "metadata": {},
     "output_type": "execute_result"
    }
   ],
   "source": [
    "# media aritmetica de cada columna con pandas\n",
    "dataframe.mean()"
   ]
  },
  {
   "cell_type": "code",
   "execution_count": 47,
   "id": "f7c07ee1",
   "metadata": {},
   "outputs": [
    {
     "data": {
      "text/plain": [
       "a    0.049767\n",
       "b   -1.333276\n",
       "c    0.351581\n",
       "d    0.230468\n",
       "e    0.444380\n",
       "dtype: float64"
      ]
     },
     "execution_count": 47,
     "metadata": {},
     "output_type": "execute_result"
    }
   ],
   "source": [
    "# media aritmetica de cada fila con pandas\n",
    "dataframe.mean(axis=1)"
   ]
  },
  {
   "cell_type": "code",
   "execution_count": null,
   "id": "4ef1df4e",
   "metadata": {},
   "outputs": [],
   "source": []
  }
 ],
 "metadata": {
  "kernelspec": {
   "display_name": "Python 3 (ipykernel)",
   "language": "python",
   "name": "python3"
  },
  "language_info": {
   "codemirror_mode": {
    "name": "ipython",
    "version": 3
   },
   "file_extension": ".py",
   "mimetype": "text/x-python",
   "name": "python",
   "nbconvert_exporter": "python",
   "pygments_lexer": "ipython3",
   "version": "3.10.9"
  }
 },
 "nbformat": 4,
 "nbformat_minor": 5
}
